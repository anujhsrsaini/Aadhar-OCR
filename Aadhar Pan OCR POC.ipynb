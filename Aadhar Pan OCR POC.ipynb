{
 "cells": [
  {
   "cell_type": "code",
   "execution_count": 1,
   "metadata": {},
   "outputs": [],
   "source": [
    "import pytesseract\n",
    "import cv2\n",
    "import numpy as np\n",
    "import os\n",
    "import spacy\n",
    "import re\n",
    "pytesseract.pytesseract.tesseract_cmd = r\"C:\\Program Files\\Tesseract-OCR\\tesseract.exe\""
   ]
  },
  {
   "cell_type": "code",
   "execution_count": null,
   "metadata": {},
   "outputs": [],
   "source": [
    "def image_processing(img,address=False):\n",
    "    img = cv2.cvtColor(img, cv2.COLOR_BGR2GRAY)\n",
    "    ## make image copy for warp perspective\n",
    "    img_copy = img.copy() \n",
    "    four_points = np.float32(four_points)\n",
    "    if address:\n",
    "        dst_pts = np.float32([[0,0],[1500,0],[0,400],[1500,400]])\n",
    "    else:\n",
    "        dst_pts = np.float32([[0,0],[850,0],[0,550],[850,550]])\n",
    "    matrix = cv2.getPerspectiveTransform(four_points,dst_pts)\n",
    "    if address:\n",
    "        result = cv2.warpPerspective(img_copy, matrix, (1500,400))\n",
    "        thresh = cv2.adaptiveThreshold(result, 255, cv2.ADAPTIVE_THRESH_GAUSSIAN_C,\n",
    "                                        cv2.THRESH_BINARY_INV, 55, 17)\n",
    "        \n",
    "    else:\n",
    "        result = cv2.warpPerspective(img_copy, matrix, (850,550))\n",
    "        thresh = cv2.adaptiveThreshold(result, 255, cv2.ADAPTIVE_THRESH_GAUSSIAN_C,\n",
    "                                        cv2.THRESH_BINARY, 77, 17)\n",
    "    \n",
    "    if address:\n",
    "        # erosion to make text thinner\n",
    "        kernel = np.ones((3,2), np.uint8)\n",
    "        thresh = cv2.erode(thresh, kernel, iterations=2)\n",
    "\n",
    "    return thresh"
   ]
  },
  {
   "cell_type": "code",
   "execution_count": 12,
   "metadata": {},
   "outputs": [],
   "source": []
  },
  {
   "cell_type": "code",
   "execution_count": 13,
   "metadata": {},
   "outputs": [
    {
     "name": "stdout",
     "output_type": "stream",
     "text": [
      "AT. PO. YAWARDI TA\n",
      "\n",
      "KARANJA LAD, Yawardi,\n",
      "\n",
      "Washim, Maharashtra, 444105\n"
     ]
    }
   ],
   "source": [
    "print(address)"
   ]
  },
  {
   "cell_type": "code",
   "execution_count": 14,
   "metadata": {},
   "outputs": [
    {
     "name": "stdout",
     "output_type": "stream",
     "text": [
      "['Ashish', 'Pramodrao', 'Thakare']\n",
      "Male\n",
      "1993\n",
      "9578 3827 1542\n"
     ]
    }
   ],
   "source": [
    "regex_name = None\n",
    "regex_gender = None\n",
    "regex_dob = None\n",
    "regex_aadhaar_number = None\n",
    "#Name Entity Recognition function\n",
    "NER = spacy.load(\"en_core_web_sm\")\n",
    "img = cv2.imread(\"Front.jpg\")\n",
    "#thresh = image_processing(img)\n",
    "img2str_config_name = \"--psm 4 --oem 3\"\n",
    "res_string_name = pytesseract.image_to_string(img,lang='eng',config=img2str_config_name)\n",
    "name=NER(res_string_name)\n",
    "#extracting name\n",
    "for word in name.ents:\n",
    "    if word.label_ == \"PERSON\":\n",
    "        regex_name  = re.findall(\"[A-Z][a-z]+\", word.text)\n",
    "if not regex_name:\n",
    "    regex_name = re.findall(\"[A-Z][a-z]+\", res_string_name)\n",
    "print(regex_name)\n",
    "\n",
    "#extracting information other than name\n",
    "img2str_config_else = \"--psm 3 --oem 3\"\n",
    "res_string_else = pytesseract.image_to_string(img,lang='eng',config=img2str_config_else)\n",
    "\n",
    "\n",
    "if not regex_name:\n",
    "    regex_name = re.findall(\"[A-Z][a-z]+\", res_string_else)\n",
    "#extracting gender\n",
    "regex_gender = re.findall(\"MALE|FEMALE|male|female|Male|Female\", res_string_else)\n",
    "if regex_gender:\n",
    "    regex_gender = regex_gender[0]\n",
    "print(regex_gender)\n",
    "\n",
    "dob = res_string_else.find('DOB')\n",
    "year= res_string_else.find('Year')\n",
    "\n",
    "#extracting date of birth\n",
    "regex_dob = re.findall(\"\\d\\d/\\d\\d/\\d\\d\\d\\d\", res_string_else[dob+4:])\n",
    "\n",
    "if regex_dob:\n",
    "    regex_dob = regex_dob[0]\n",
    "if not regex_dob:\n",
    "    regex_dob = re.findall(\"(\\d\\d\\d\\d){1}\", res_string_else[year+5:])[0]\n",
    "print(regex_dob)\n",
    "\n",
    "#extracting aadhaar number\n",
    "regex_aadhaar_number = re.findall(\"\\d\\d\\d\\d \\d\\d\\d\\d \\d\\d\\d\\d\",res_string_else)\n",
    "if regex_aadhaar_number:\n",
    "    regex_aadhaar_number = regex_aadhaar_number[0]\n",
    "print(regex_aadhaar_number)"
   ]
  },
  {
   "cell_type": "code",
   "execution_count": null,
   "metadata": {},
   "outputs": [],
   "source": []
  }
 ],
 "metadata": {
  "kernelspec": {
   "display_name": "Python 3 (ipykernel)",
   "language": "python",
   "name": "python3"
  },
  "language_info": {
   "codemirror_mode": {
    "name": "ipython",
    "version": 3
   },
   "file_extension": ".py",
   "mimetype": "text/x-python",
   "name": "python",
   "nbconvert_exporter": "python",
   "pygments_lexer": "ipython3",
   "version": "3.7.9"
  }
 },
 "nbformat": 4,
 "nbformat_minor": 2
}
