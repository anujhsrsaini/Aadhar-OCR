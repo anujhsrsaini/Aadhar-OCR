{
 "cells": [
  {
   "cell_type": "code",
   "execution_count": 1,
   "metadata": {},
   "outputs": [],
   "source": [
    "import pytesseract\n",
    "import cv2\n",
    "import numpy as np\n",
    "import os\n",
    "import spacy\n",
    "import re\n",
    "pytesseract.pytesseract.tesseract_cmd = r\"C:\\Program Files\\Tesseract-OCR\\tesseract.exe\""
   ]
  },
  {
   "cell_type": "code",
   "execution_count": null,
   "metadata": {},
   "outputs": [],
   "source": [
    "def image_processing(img,address=False):\n",
    "    img = cv2.cvtColor(img, cv2.COLOR_BGR2GRAY)\n",
    "    ## make image copy for warp perspective\n",
    "    img_copy = img.copy() \n",
    "    four_points = np.float32(four_points)\n",
    "    if address:\n",
    "        dst_pts = np.float32([[0,0],[1500,0],[0,400],[1500,400]])\n",
    "    else:\n",
    "        dst_pts = np.float32([[0,0],[850,0],[0,550],[850,550]])\n",
    "    matrix = cv2.getPerspectiveTransform(four_points,dst_pts)\n",
    "    if address:\n",
    "        result = cv2.warpPerspective(img_copy, matrix, (1500,400))\n",
    "        thresh = cv2.adaptiveThreshold(result, 255, cv2.ADAPTIVE_THRESH_GAUSSIAN_C,\n",
    "                                        cv2.THRESH_BINARY_INV, 55, 17)\n",
    "        \n",
    "    else:\n",
    "        result = cv2.warpPerspective(img_copy, matrix, (850,550))\n",
    "        thresh = cv2.adaptiveThreshold(result, 255, cv2.ADAPTIVE_THRESH_GAUSSIAN_C,\n",
    "                                        cv2.THRESH_BINARY, 77, 17)\n",
    "    \n",
    "    if address:\n",
    "        # erosion to make text thinner\n",
    "        kernel = np.ones((3,2), np.uint8)\n",
    "        thresh = cv2.erode(thresh, kernel, iterations=2)\n",
    "\n",
    "    return thresh"
   ]
  },
  {
   "cell_type": "code",
   "execution_count": 12,
   "metadata": {},
   "outputs": [],
   "source": [
    "\n",
    "img = cv2.imread(\"Back.jpg\")\n",
    "gray = cv2.cvtColor(img, cv2.COLOR_BGR2GRAY)\n",
    "crop_img = gray[:, int(gray.shape[1]/2):]\n",
    "cv2.imwrite('test.jpg',crop_img)\n",
    "ocr_text = pytesseract.image_to_string(crop_img, config=f'-l eng --psm 11 --oem 3 ')\n",
    "\n",
    "try:\n",
    "    address_start = ocr_text.find('Address')\n",
    "    if address_start==-1:\n",
    "        address_start = ocr_text.find('To\\n')\n",
    "    address = ocr_text[address_start+8:]\n",
    "    \n",
    "    pinpatn = r'[0-9]{6}'\n",
    "    address_end = 0\n",
    "    pinloc = re.search(pinpatn, address)\n",
    "    if pinloc:\n",
    "        address_end = pinloc.end() \n",
    "    else:\n",
    "        print('Pin code not found in address')\n",
    "        address = re.sub('\\n', ' ', address[:address_end])\n",
    "    address = address[:address_end]\n",
    "except:\n",
    "    address = re.sub('\\n', ' ', ocr_text)\n",
    "    pinpatn = re.compile(r'[0-9]{6}')\n",
    "    pincode = re.search(pinpatn, address)"
   ]
  },
  {
   "cell_type": "code",
   "execution_count": 13,
   "metadata": {},
   "outputs": [
    {
     "name": "stdout",
     "output_type": "stream",
     "text": [
      "AT. PO. YAWARDI TA\n",
      "\n",
      "KARANJA LAD, Yawardi,\n",
      "\n",
      "Washim, Maharashtra, 444105\n"
     ]
    }
   ],
   "source": [
    "print(address)"
   ]
  },
  {
   "cell_type": "code",
   "execution_count": 14,
   "metadata": {},
   "outputs": [
    {
     "name": "stdout",
     "output_type": "stream",
     "text": [
      "['Ashish', 'Pramodrao', 'Thakare']\n",
      "Male\n",
      "1993\n",
      "9578 3827 1542\n"
     ]
    }
   ],
   "source": [
    "regex_name = None\n",
    "regex_gender = None\n",
    "regex_dob = None\n",
    "regex_aadhaar_number = None\n",
    "#Name Entity Recognition function\n",
    "NER = spacy.load(\"en_core_web_sm\")\n",
    "img = cv2.imread(\"Front.jpg\")\n",
    "#thresh = image_processing(img)\n",
    "img2str_config_name = \"--psm 4 --oem 3\"\n",
    "res_string_name = pytesseract.image_to_string(img,lang='eng',config=img2str_config_name)\n",
    "name=NER(res_string_name)\n",
    "#extracting name\n",
    "for word in name.ents:\n",
    "    if word.label_ == \"PERSON\":\n",
    "        regex_name  = re.findall(\"[A-Z][a-z]+\", word.text)\n",
    "if not regex_name:\n",
    "    regex_name = re.findall(\"[A-Z][a-z]+\", res_string_name)\n",
    "print(regex_name)\n",
    "\n",
    "#extracting information other than name\n",
    "img2str_config_else = \"--psm 3 --oem 3\"\n",
    "res_string_else = pytesseract.image_to_string(img,lang='eng',config=img2str_config_else)\n",
    "\n",
    "\n",
    "if not regex_name:\n",
    "    regex_name = re.findall(\"[A-Z][a-z]+\", res_string_else)\n",
    "#extracting gender\n",
    "regex_gender = re.findall(\"MALE|FEMALE|male|female|Male|Female\", res_string_else)\n",
    "if regex_gender:\n",
    "    regex_gender = regex_gender[0]\n",
    "print(regex_gender)\n",
    "\n",
    "dob = res_string_else.find('DOB')\n",
    "year= res_string_else.find('Year')\n",
    "\n",
    "#extracting date of birth\n",
    "regex_dob = re.findall(\"\\d\\d/\\d\\d/\\d\\d\\d\\d\", res_string_else[dob+4:])\n",
    "\n",
    "if regex_dob:\n",
    "    regex_dob = regex_dob[0]\n",
    "if not regex_dob:\n",
    "    regex_dob = re.findall(\"(\\d\\d\\d\\d){1}\", res_string_else[year+5:])[0]\n",
    "print(regex_dob)\n",
    "\n",
    "#extracting aadhaar number\n",
    "regex_aadhaar_number = re.findall(\"\\d\\d\\d\\d \\d\\d\\d\\d \\d\\d\\d\\d\",res_string_else)\n",
    "if regex_aadhaar_number:\n",
    "    regex_aadhaar_number = regex_aadhaar_number[0]\n",
    "print(regex_aadhaar_number)"
   ]
  },
  {
   "cell_type": "code",
   "execution_count": 9,
   "metadata": {},
   "outputs": [
    {
     "ename": "AttributeError",
     "evalue": "'NoneType' object has no attribute 'end'",
     "output_type": "error",
     "traceback": [
      "\u001b[1;31m---------------------------------------------------------------------------\u001b[0m",
      "\u001b[1;31mAttributeError\u001b[0m                            Traceback (most recent call last)",
      "\u001b[1;32m~\\AppData\\Local\\Temp\\ipykernel_21236\\1814061775.py\u001b[0m in \u001b[0;36m<module>\u001b[1;34m\u001b[0m\n\u001b[0;32m     17\u001b[0m \u001b[0mpinpatn\u001b[0m \u001b[1;33m=\u001b[0m \u001b[1;34mr'[0-9]{6}'\u001b[0m\u001b[1;33m\u001b[0m\u001b[1;33m\u001b[0m\u001b[0m\n\u001b[0;32m     18\u001b[0m \u001b[0mpinloc\u001b[0m \u001b[1;33m=\u001b[0m \u001b[0mre\u001b[0m\u001b[1;33m.\u001b[0m\u001b[0msearch\u001b[0m\u001b[1;33m(\u001b[0m\u001b[0mpinpatn\u001b[0m\u001b[1;33m,\u001b[0m \u001b[0mregex_address\u001b[0m\u001b[1;33m)\u001b[0m\u001b[1;33m\u001b[0m\u001b[1;33m\u001b[0m\u001b[0m\n\u001b[1;32m---> 19\u001b[1;33m \u001b[0mregex_address\u001b[0m \u001b[1;33m=\u001b[0m \u001b[0mregex_address\u001b[0m\u001b[1;33m[\u001b[0m\u001b[1;36m0\u001b[0m\u001b[1;33m:\u001b[0m\u001b[0mpinloc\u001b[0m\u001b[1;33m.\u001b[0m\u001b[0mend\u001b[0m\u001b[1;33m(\u001b[0m\u001b[1;33m)\u001b[0m\u001b[1;33m]\u001b[0m\u001b[1;33m\u001b[0m\u001b[1;33m\u001b[0m\u001b[0m\n\u001b[0m\u001b[0;32m     20\u001b[0m \u001b[0mregex_address\u001b[0m \u001b[1;33m=\u001b[0m \u001b[0mos\u001b[0m\u001b[1;33m.\u001b[0m\u001b[0mlinesep\u001b[0m\u001b[1;33m.\u001b[0m\u001b[0mjoin\u001b[0m\u001b[1;33m(\u001b[0m\u001b[1;33m[\u001b[0m\u001b[0ms\u001b[0m \u001b[1;32mfor\u001b[0m \u001b[0ms\u001b[0m \u001b[1;32min\u001b[0m \u001b[0mregex_address\u001b[0m\u001b[1;33m.\u001b[0m\u001b[0msplitlines\u001b[0m\u001b[1;33m(\u001b[0m\u001b[1;33m)\u001b[0m \u001b[1;32mif\u001b[0m \u001b[0ms\u001b[0m\u001b[1;33m]\u001b[0m\u001b[1;33m)\u001b[0m\u001b[1;33m\u001b[0m\u001b[1;33m\u001b[0m\u001b[0m\n\u001b[0;32m     21\u001b[0m \u001b[0mprint\u001b[0m\u001b[1;33m(\u001b[0m\u001b[0mregex_address\u001b[0m\u001b[1;33m)\u001b[0m\u001b[1;33m\u001b[0m\u001b[1;33m\u001b[0m\u001b[0m\n",
      "\u001b[1;31mAttributeError\u001b[0m: 'NoneType' object has no attribute 'end'"
     ]
    }
   ],
   "source": [
    "res_string_address = None\n",
    "thresh = cv2.imread(\"Back2.jpg\")\n",
    "thresh = cv2.cvtColor(thresh, cv2.COLOR_BGR2GRAY)\n",
    "#thresh = image_processing(img,address)\n",
    "#print(\"Thresh\",thresh.shape)\n",
    "img2str_config_name = \"--psm 11 --oem 3\"\n",
    "\n",
    "#image[image.shape[0]/2:image.shape[0]]\n",
    "\n",
    "thresh = thresh[:, :]\n",
    "res_string_address = pytesseract.image_to_string(thresh,lang='eng')#,config=img2str_config_name)\n",
    "regex_address = res_string_address[res_string_address.find(\"Address\")+1:]\n",
    "regex_address = regex_address.replace(\"Address: \",\"\")\n",
    "regex_address = regex_address.replace(\"Address:\",\"\")\n",
    "regex_address = regex_address.replace(\"Address :\",\"\")\n",
    "regex_address = regex_address.replace(\"Address\",\"\")\n",
    "pinpatn = r'[0-9]{6}'\n",
    "pinloc = re.search(pinpatn, regex_address)\n",
    "regex_address = regex_address[0:pinloc.end()]\n",
    "regex_address = os.linesep.join([s for s in regex_address.splitlines() if s])\n",
    "print(regex_address)"
   ]
  },
  {
   "cell_type": "code",
   "execution_count": null,
   "metadata": {},
   "outputs": [],
   "source": []
  }
 ],
 "metadata": {
  "kernelspec": {
   "display_name": "Python 3 (ipykernel)",
   "language": "python",
   "name": "python3"
  },
  "language_info": {
   "codemirror_mode": {
    "name": "ipython",
    "version": 3
   },
   "file_extension": ".py",
   "mimetype": "text/x-python",
   "name": "python",
   "nbconvert_exporter": "python",
   "pygments_lexer": "ipython3",
   "version": "3.7.9"
  }
 },
 "nbformat": 4,
 "nbformat_minor": 2
}
